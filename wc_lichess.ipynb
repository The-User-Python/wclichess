{
 "cells": [
  {
   "cell_type": "code",
   "execution_count": 1,
   "id": "28a4c8f6",
   "metadata": {},
   "outputs": [],
   "source": [
    "import pandas as pd\n",
    "import seaborn as sns\n",
    "import numpy as np\n",
    "from matplotlib import pyplot as plt\n",
    "import imageio"
   ]
  },
  {
   "cell_type": "code",
   "execution_count": 2,
   "id": "436b64ec",
   "metadata": {},
   "outputs": [
    {
     "name": "stdout",
     "output_type": "stream",
     "text": [
      "['Solarize_Light2', '_classic_test_patch', '_mpl-gallery', '_mpl-gallery-nogrid', 'bmh', 'classic', 'dark_background', 'fast', 'fivethirtyeight', 'ggplot', 'grayscale', 'seaborn', 'seaborn-bright', 'seaborn-colorblind', 'seaborn-dark', 'seaborn-dark-palette', 'seaborn-darkgrid', 'seaborn-deep', 'seaborn-muted', 'seaborn-notebook', 'seaborn-paper', 'seaborn-pastel', 'seaborn-poster', 'seaborn-talk', 'seaborn-ticks', 'seaborn-white', 'seaborn-whitegrid', 'tableau-colorblind10']\n"
     ]
    }
   ],
   "source": [
    "pd.set_option('display.max_rows', 500)\n",
    "plt.style.use('seaborn-dark')\n",
    "print(plt.style.available)"
   ]
  },
  {
   "cell_type": "code",
   "execution_count": 3,
   "id": "28ac1e4d",
   "metadata": {},
   "outputs": [],
   "source": [
    "# data from grafana monitoring of lichess.org (websocket connections as proxy for players)\n",
    "df = pd.read_csv('~/git/wclichess/wcdata.csv')"
   ]
  },
  {
   "cell_type": "code",
   "execution_count": 4,
   "id": "1d47ce6a",
   "metadata": {},
   "outputs": [],
   "source": [
    "# fixtures from https://fixturedownload.com/results/fifa-world-cup-2022\n",
    "fixtures = pd.read_csv('fifa-world-cup-2022-UTC.csv')"
   ]
  },
  {
   "cell_type": "code",
   "execution_count": 5,
   "id": "b4775390",
   "metadata": {},
   "outputs": [],
   "source": [
    "df = df.fillna(method='ffill') # cover missing points in grafana data\n",
    "df['Time'] = pd.to_datetime(df.Time)\n",
    "df['players'] = pd.to_numeric(df['players'].str.split().str[0]) # from 60.0 K string to 60.0 float"
   ]
  },
  {
   "cell_type": "code",
   "execution_count": 6,
   "id": "9fdb8f82",
   "metadata": {},
   "outputs": [],
   "source": [
    "df['day'] = df.Time.dt.date\n",
    "df['daytime'] = df.Time.dt.strftime('%H-%M')"
   ]
  },
  {
   "cell_type": "code",
   "execution_count": 7,
   "id": "21bbf8a8",
   "metadata": {},
   "outputs": [],
   "source": [
    "days = df.day.unique()[4:] # world cup days\n",
    "standard_day = df.day.unique()[1] # normal day example"
   ]
  },
  {
   "cell_type": "code",
   "execution_count": 8,
   "id": "555c2bc5",
   "metadata": {},
   "outputs": [],
   "source": [
    "# create table to see what matches were played when and by which teams\n",
    "fixture_lookup = fixtures[['Home Team', 'Away Team']].stack().reset_index()\\\n",
    "    .merge(fixtures['Date'], how='inner', left_on='level_0', right_index=True)\\\n",
    "    .drop(columns=['level_0', 'level_1'])\\\n",
    "    .rename(columns={0: 'Country'})\n",
    "fixture_lookup['Day'] = pd.to_datetime(fixture_lookup.Date, dayfirst=True).dt.date\n",
    "fixture_lookup['Time'] = pd.to_datetime(fixture_lookup.Date).dt.strftime('%H-%M')"
   ]
  },
  {
   "cell_type": "code",
   "execution_count": 9,
   "id": "fac7dd99",
   "metadata": {},
   "outputs": [],
   "source": [
    "# some names were too long to label neatly\n",
    "fixture_lookup['Country'] = fixture_lookup.Country.replace({'Korea Republic': 'Korea', 'Saudi Arabia': 'S Arabia'})"
   ]
  },
  {
   "cell_type": "code",
   "execution_count": 10,
   "id": "2ad2a0a4",
   "metadata": {},
   "outputs": [],
   "source": [
    "# getting the placement of the graph labels correct for each kickoff\n",
    "kickoffs = {\n",
    "    '10-00': ([40,40], [40, 110], 'k--'),\n",
    "    '13-00': ([52,52], [40, 110], 'k--'),\n",
    "    '15-00': ([60,60], [40, 110], 'k--'),\n",
    "    '16-00': ([64,64], [40, 110], 'k--'),\n",
    "    '19-00': ([76,76], [40, 110], 'k--'),\n",
    "}\n",
    "kickoff_labels = {\n",
    "    '10-00': 0.42,\n",
    "    '13-00': 0.52,\n",
    "    '15-00': 0.57,\n",
    "    '16-00': 0.60,\n",
    "    '19-00': 0.70\n",
    "}"
   ]
  },
  {
   "cell_type": "code",
   "execution_count": 11,
   "id": "a55e7856",
   "metadata": {},
   "outputs": [],
   "source": [
    "# make all the graphs for each day with both normal day and the specified day\n",
    "for n, day in enumerate(days):\n",
    "    f, ax = plt.subplots(figsize=(10, 7))\n",
    "    plot_df = df.query('day == @day')[['daytime', 'players']]\n",
    "    plot_df.plot(x='daytime', y='players', ax=ax, legend=False, color='g')\n",
    "    plot_df = df.query('day == @standard_day')[['daytime', 'players']]\n",
    "    plot_df.plot(x='daytime', y='players', ax=ax, legend=False, color='black')\n",
    "    plt.title('Lichess.org Users During Football World Cup Relative to Normal Day', fontsize='16.5')\n",
    "    # add labels for each kickoff\n",
    "    for t in kickoffs.keys():\n",
    "        matches = fixture_lookup.query('Day == @days[@n] & Time == @t')\n",
    "        if not matches.empty:\n",
    "            plt.plot(*kickoffs[t], lw=1, dashes=[2,2])\n",
    "            plt.figtext(kickoff_labels[t], 0.15, matches.Country.to_string(index=False), fontsize='medium')\n",
    "    plt.figtext(0.15, 0.8, day, fontsize='xx-large')\n",
    "    # credit\n",
    "    plt.figtext(0.15, 0.15, 'github @michael1241', fontsize='small')\n",
    "    plt.xlabel('Time', fontsize='15')\n",
    "    plt.ylabel('Online Users in 1000s', fontsize='15')\n",
    "    plt.ylim([30,110])\n",
    "    plt.savefig(f'./img/img_{n}.png', \n",
    "                transparent = False\n",
    "               )\n",
    "    plt.close()"
   ]
  },
  {
   "cell_type": "code",
   "execution_count": 15,
   "id": "cf9e6a29",
   "metadata": {},
   "outputs": [],
   "source": [
    "frames = []\n",
    "for n, day in enumerate(days):\n",
    "    image = imageio.v2.imread(f'./img/img_{n}.png')\n",
    "    frames.append(image)\n",
    "# mkdir ./img/ first\n",
    "imageio.mimsave('./img/output.gif', frames, fps = 1)"
   ]
  },
  {
   "cell_type": "code",
   "execution_count": null,
   "id": "5092916e",
   "metadata": {},
   "outputs": [],
   "source": []
  }
 ],
 "metadata": {
  "kernelspec": {
   "display_name": "Python 3 (ipykernel)",
   "language": "python",
   "name": "python3"
  },
  "language_info": {
   "codemirror_mode": {
    "name": "ipython",
    "version": 3
   },
   "file_extension": ".py",
   "mimetype": "text/x-python",
   "name": "python",
   "nbconvert_exporter": "python",
   "pygments_lexer": "ipython3",
   "version": "3.10.6"
  }
 },
 "nbformat": 4,
 "nbformat_minor": 5
}
